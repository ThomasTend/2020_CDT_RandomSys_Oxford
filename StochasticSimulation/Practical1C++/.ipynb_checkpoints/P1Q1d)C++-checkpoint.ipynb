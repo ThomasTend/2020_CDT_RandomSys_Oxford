{
 "cells": [
  {
   "cell_type": "code",
   "execution_count": null,
   "metadata": {},
   "outputs": [],
   "source": [
    "!conda install -c conda-forge eigen; conda update -n base conda; conda install -c anaconda boost"
   ]
  },
  {
   "cell_type": "code",
   "execution_count": null,
   "metadata": {},
   "outputs": [],
   "source": [
    "#pragma cling add_include_path(\"/Users/Thomas/Desktop/StochSimCode/2020_CDT_RandomSys_Oxford/StochasticSimulation/Practical1C++/eigen-3.3.8/Eigen/\")\n",
    "#pragma cling add_include_path(\"/Users/Thomas/Desktop/StochSimCode/2020_CDT_RandomSys_Oxford/StochasticSimulation/Practical1C++/boost_1_74_0/boost/\")"
   ]
  },
  {
   "cell_type": "code",
   "execution_count": null,
   "metadata": {},
   "outputs": [],
   "source": [
    "#include <iostream>\n",
    "#include <math.h>\n",
    "#include <Eigen>\n",
    "#include <chrono>\n",
    "#include <random>\n",
    "#include <boost/math/special_functions/erf.hpp>\n",
    "\n",
    "using namespace Eigen;\n",
    "using namespace std;"
   ]
  },
  {
   "cell_type": "code",
   "execution_count": null,
   "metadata": {},
   "outputs": [],
   "source": [
    "int main()\n",
    "{\n",
    "    std::random_device rd;  //Will be used to obtain a seed for the random number engine\n",
    "    std::mt19937 gen(rd()); //Standard mersenne_twister_engine seeded with rd()\n",
    "    std::uniform_real_distribution<> dis(0.0, 1.0);\n",
    "    int n=1;\n",
    "\n",
    "    Matrix2d A; // A corresponds to the matrix Sigma in question 1\n",
    "    A << 4,1,1,4;\n",
    "    std::cout << \"The matrix A is\" << std::endl << A << std::endl;\n",
    "\n",
    "    LLT<Matrix2d> lltOfA(A); // compute the Cholesky decomposition of A\n",
    "    Matrix2d L = lltOfA.matrixL(); // retrieve factor L  in the decomposition\n",
    "\n",
    "    std::cout << \"The Cholesky factor L is\" << std::endl << L << std::endl;\n",
    "    std::cout << \"To check this, let us compute L * L.transpose()\" << std::endl;\n",
    "    std::cout << L * L.transpose() << std::endl;\n",
    "    std::cout << \"This should equal the matrix A\" << std::endl;\n",
    "\n",
    "    std::chrono::steady_clock::time_point start = std::chrono::steady_clock::now();\n",
    "    int counter=0;\n",
    "    while(std::chrono::steady_clock::now() - start <= std::chrono::seconds(60)){\n",
    "        MatrixXf w(2,n);\n",
    "        for(int i=0; i<n; i++){\n",
    "            Vector2d tempMat;\n",
    "            tempMat << -sqrt(2) * boost::math::erfc_inv(2*dis(gen)), -sqrt(2) * boost::math::erfc_inv(2*dis(gen));\n",
    "            Vector2d tempVec;\n",
    "            tempVec << L*tempMat;\n",
    "            w(0,i) = tempVec(0,0);\n",
    "            w(1, i) = tempVec(1, 0);\n",
    "            // To check we are indeed generating normals\n",
    "            //double temp = dis(gen);\n",
    "            //cout << temp << endl;\n",
    "            //cout << ICDFnormal(temp) << endl;\n",
    "            //cout << 0.5 * boost::math::erfc(-(ICDFnormal(temp))/(sqrt(2))) << endl;\n",
    "        }\n",
    "        counter+=1;\n",
    "    }\n",
    "    std::cout << \"We have generated \" + std::to_string(counter) + \" normals with covariance A.\"<< std::endl;\n",
    "}"
   ]
  },
  {
   "cell_type": "code",
   "execution_count": null,
   "metadata": {},
   "outputs": [],
   "source": [
    "main();"
   ]
  },
  {
   "cell_type": "code",
   "execution_count": null,
   "metadata": {},
   "outputs": [],
   "source": []
  }
 ],
 "metadata": {
  "kernelspec": {
   "display_name": "C++14",
   "language": "C++14",
   "name": "xcpp14"
  },
  "language_info": {
   "codemirror_mode": "text/x-c++src",
   "file_extension": ".cpp",
   "mimetype": "text/x-c++src",
   "name": "c++",
   "version": "14"
  }
 },
 "nbformat": 4,
 "nbformat_minor": 4
}
